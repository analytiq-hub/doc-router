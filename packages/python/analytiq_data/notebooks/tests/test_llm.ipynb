{
 "cells": [
  {
   "cell_type": "code",
   "execution_count": null,
   "metadata": {},
   "outputs": [],
   "source": [
    "%load_ext autoreload\n",
    "%autoreload 2"
   ]
  },
  {
   "cell_type": "code",
   "execution_count": null,
   "metadata": {},
   "outputs": [],
   "source": [
    "import sys\n",
    "sys.path.append(\"../../..\")"
   ]
  },
  {
   "cell_type": "code",
   "execution_count": null,
   "metadata": {},
   "outputs": [],
   "source": [
    "import os\n",
    "import analytiq_data as ad\n",
    "import asyncio"
   ]
  },
  {
   "cell_type": "code",
   "execution_count": null,
   "metadata": {},
   "outputs": [],
   "source": [
    "ad.common.setup()"
   ]
  },
  {
   "cell_type": "code",
   "execution_count": null,
   "metadata": {},
   "outputs": [],
   "source": [
    "# Set the MONGODB_URI environment variable\n",
    "os.environ[\"MONGODB_URI\"] = \"mongodb://localhost:27017\""
   ]
  },
  {
   "cell_type": "code",
   "execution_count": null,
   "metadata": {},
   "outputs": [],
   "source": [
    "analytiq_client = ad.common.get_analytiq_client(env=\"test\")\n",
    "\n",
    "llm_key = await ad.llm.get_llm_key(analytiq_client, llm_provider=\"mistral\")\n",
    "print(llm_key)"
   ]
  },
  {
   "cell_type": "code",
   "execution_count": null,
   "metadata": {},
   "outputs": [],
   "source": [
    "org_id = \"6795345439604beca2b2808d\"\n",
    "prompt_id, version = await ad.common.get_prompt_id(analytiq_client, \"cv\", org_id)\n",
    "prompt_id, version"
   ]
  },
  {
   "cell_type": "code",
   "execution_count": null,
   "metadata": {},
   "outputs": [],
   "source": [
    "prompt_revid = await ad.common.get_prompt_revid(analytiq_client, prompt_id, version)\n",
    "prompt_revid"
   ]
  },
  {
   "cell_type": "code",
   "execution_count": null,
   "metadata": {},
   "outputs": [],
   "source": [
    "prompt_revid = \"68926f54b175d0e0ff51b11c\""
   ]
  },
  {
   "cell_type": "code",
   "execution_count": null,
   "metadata": {},
   "outputs": [],
   "source": [
    "document_id = \"687c5bd2eecf1be4639ea6d0\""
   ]
  },
  {
   "cell_type": "code",
   "execution_count": null,
   "metadata": {},
   "outputs": [],
   "source": [
    "await ad.llm.get_llm_model(analytiq_client, prompt_revid)"
   ]
  },
  {
   "cell_type": "code",
   "execution_count": null,
   "metadata": {},
   "outputs": [],
   "source": [
    "# Clear the AWS credentials in the env to avoid using them\n",
    "os.environ[\"AWS_ACCESS_KEY_ID\"] = \"\"\n",
    "os.environ[\"AWS_SECRET_ACCESS_KEY\"] = \"\"\n",
    "os.environ[\"AWS_REGION_NAME\"] = \"\""
   ]
  },
  {
   "cell_type": "code",
   "execution_count": null,
   "metadata": {},
   "outputs": [],
   "source": [
    "llm_result = await ad.llm.run_llm(analytiq_client,\n",
    "                                  document_id=document_id,\n",
    "                                  prompt_revid=prompt_revid,\n",
    "                                  #llm_model=\"bedrock/anthropic.claude-3-7-sonnet-20250219-v1:0\",\n",
    "                                  #llm_model=\"anthropic.claude-3-5-sonnet-20240620-v1:0\",\n",
    "                                  #llm_model=\"groq/deepseek-r1-distill-llama-70b\",\n",
    "                                  #llm_model=\"gemini/gemini-2.0-flash\",\n",
    "                                  #llm_model=\"gemini/gemini-2.5-flash-preview-05-20\",\n",
    "                                  #llm_model=\"gemini/gemini-2.5-flash-preview-tts\",\n",
    "                                  #llm_model=\"azure_ai/deepseek-v3\",\n",
    "                                  llm_model=\"gpt-4.5-preview\",\n",
    "                                  #llm_model=\"gpt-4o-2024-08-06\",\n",
    "                                  #llm_model=\"claude-3-5-sonnet\",\n",
    "                                  #llm_model=\"mistral/mistral-large-latest\",\n",
    "                                  #llm_model=\"mistral/open-mixtral-8x22b\",\n",
    "                                  force=True)\n",
    "llm_result\n"
   ]
  },
  {
   "cell_type": "code",
   "execution_count": null,
   "metadata": {},
   "outputs": [],
   "source": [
    "llm_result_id = await ad.llm.save_llm_result(analytiq_client,\n",
    "                                             document_id=document_id,\n",
    "                                             prompt_revid=prompt_revid,\n",
    "                                             llm_result=llm_result)\n",
    "llm_result_id"
   ]
  },
  {
   "cell_type": "code",
   "execution_count": null,
   "metadata": {},
   "outputs": [],
   "source": [
    "llm_result = await ad.llm.get_llm_result(analytiq_client,\n",
    "                                         document_id=document_id,\n",
    "                                         prompt_revid=prompt_revi)\n",
    "llm_result\n"
   ]
  },
  {
   "cell_type": "code",
   "execution_count": null,
   "metadata": {},
   "outputs": [],
   "source": [
    "await ad.llm.delete_llm_result(analytiq_client,\n",
    "                                document_id=document_id,\n",
    "                                prompt_revid=prompt_revid)\n"
   ]
  },
  {
   "cell_type": "code",
   "execution_count": null,
   "metadata": {},
   "outputs": [],
   "source": [
    "await ad.llm.run_llm_for_prompt_revids(analytiq_client,\n",
    "                                        document_id=document_id,\n",
    "                                        prompt_revids=[prompt_revid],\n",
    "                                        model=\"groq/deepseek-r1-distill-llama-70b\")\n"
   ]
  },
  {
   "cell_type": "code",
   "execution_count": null,
   "metadata": {},
   "outputs": [],
   "source": [
    "from litellm.utils import supports_response_schema\n",
    "\n",
    "supports_response_schema(model=\"groq/deepseek-r1-distill-llama-70b\")"
   ]
  },
  {
   "cell_type": "code",
   "execution_count": null,
   "metadata": {},
   "outputs": [],
   "source": [
    "await ad.llm.list_llm_providers(analytiq_client)"
   ]
  },
  {
   "cell_type": "code",
   "execution_count": null,
   "metadata": {},
   "outputs": [],
   "source": [
    "ad.llm.is_chat_model(\"mistral/mistral-large-latest\")"
   ]
  },
  {
   "cell_type": "code",
   "execution_count": null,
   "metadata": {},
   "outputs": [],
   "source": [
    "ad.llm.get_supported_models()"
   ]
  },
  {
   "cell_type": "code",
   "execution_count": null,
   "metadata": {},
   "outputs": [],
   "source": [
    "ad.llm.get_available_models()"
   ]
  },
  {
   "cell_type": "code",
   "execution_count": null,
   "metadata": {},
   "outputs": [],
   "source": [
    "for model in ad.llm.get_supported_models():\n",
    "    if not ad.llm.is_supported_model(model):\n",
    "        raise Exception(f\"Model {model} is not supported\")"
   ]
  },
  {
   "cell_type": "code",
   "execution_count": null,
   "metadata": {},
   "outputs": [],
   "source": [
    "litellm.models_by_provider.keys()"
   ]
  },
  {
   "cell_type": "code",
   "execution_count": null,
   "metadata": {},
   "outputs": [],
   "source": [
    "await ad.llm.providers.setup_llm_providers(analytiq_client)"
   ]
  },
  {
   "cell_type": "code",
   "execution_count": null,
   "metadata": {},
   "outputs": [],
   "source": [
    "import os\n",
    "from litellm import completion\n",
    "\n",
    "aws_config = await ad.aws.get_aws_config(analytiq_client)\n",
    "aws_access_key_id = aws_config[\"aws_access_key_id\"]\n",
    "aws_secret_access_key = aws_config[\"aws_secret_access_key\"]\n",
    "aws_region_name = \"us-east-1\"\n",
    "\n",
    "response = completion(\n",
    "  #provider=\"bedrock\",\n",
    "  #model=\"bedrock/anthropic.claude-sonnet-4-20250514-v1:0\",\n",
    "  #model=\"bedrock/us.anthropic.claude-sonnet-4-20250514-v1:0\",\n",
    "  #model=\"bedrock/arn:aws:bedrock:us-east-1:890742589311:inference-profile/claude-sonnet-4-profile\",\n",
    "  #model=\"bedrock/anthropic.claude-3-7-sonnet-20250219-v1:0\",\n",
    "  #model=\"anthropic.claude-3-5-sonnet-20240620-v1:0\",\n",
    "  #model=\"gemini/gemini-2.0-flash\",\n",
    "  #model=\"gemini/gemini-2.5-flash-preview-05-20\",\n",
    "  model=\"gemini/gemini-2.5-pro-preview-06-05\",\n",
    "  messages=[{ \"content\": \"Hello, how are you?\",\"role\": \"user\"}],\n",
    "  #response_format = {\"type\": \"json_object\"},\n",
    "  aws_access_key_id=aws_access_key_id,\n",
    "  aws_secret_access_key=aws_secret_access_key,\n",
    "  aws_region_name=aws_region_name,\n",
    ")\n",
    "\n",
    "response"
   ]
  },
  {
   "cell_type": "code",
   "execution_count": null,
   "metadata": {},
   "outputs": [],
   "source": [
    "import litellm\n",
    "from litellm import CustomLLM, completion, get_llm_provider\n",
    "\n",
    "\n",
    "class MyCustomLLM(CustomLLM):\n",
    "    def completion(self, *args, **kwargs) -> litellm.ModelResponse:\n",
    "        return litellm.completion(\n",
    "            model=\"gpt-3.5-turbo\",\n",
    "            messages=[{\"role\": \"user\", \"content\": \"Hello world\"}],\n",
    "            mock_response=\"Hi!\",\n",
    "        )  # type: ignore"
   ]
  },
  {
   "cell_type": "code",
   "execution_count": null,
   "metadata": {},
   "outputs": [],
   "source": [
    "my_custom_llm = MyCustomLLM()\n",
    "\n",
    "litellm.custom_provider_map = [ # 👈 KEY STEP - REGISTER HANDLER\n",
    "        {\"provider\": \"my-custom-llm\", \"custom_handler\": my_custom_llm}\n",
    "    ]"
   ]
  },
  {
   "cell_type": "code",
   "execution_count": null,
   "metadata": {},
   "outputs": [],
   "source": [
    "resp = completion(\n",
    "        model=\"my-custom-llm/my-fake-model\",\n",
    "        messages=[{\"role\": \"user\", \"content\": \"Hello world!\"}],\n",
    "    )\n",
    "\n",
    "assert resp.choices[0].message.content == \"Hi!\""
   ]
  },
  {
   "cell_type": "code",
   "execution_count": null,
   "metadata": {},
   "outputs": [],
   "source": [
    "resp"
   ]
  }
 ],
 "metadata": {
  "kernelspec": {
   "display_name": ".venv",
   "language": "python",
   "name": "python3"
  },
  "language_info": {
   "codemirror_mode": {
    "name": "ipython",
    "version": 3
   },
   "file_extension": ".py",
   "mimetype": "text/x-python",
   "name": "python",
   "nbconvert_exporter": "python",
   "pygments_lexer": "ipython3",
   "version": "3.13.7"
  }
 },
 "nbformat": 4,
 "nbformat_minor": 2
}
