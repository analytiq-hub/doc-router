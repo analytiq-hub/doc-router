{
 "cells": [
  {
   "cell_type": "code",
   "execution_count": 1,
   "metadata": {},
   "outputs": [],
   "source": [
    "%load_ext autoreload\n",
    "%autoreload 2"
   ]
  },
  {
   "cell_type": "code",
   "execution_count": 2,
   "metadata": {},
   "outputs": [],
   "source": [
    "import sys\n",
    "sys.path.append(\"../../..\")\n",
    "\n",
    "import os\n",
    "from datetime import datetime, UTC\n",
    "import analytiq_data as ad\n",
    "import asyncio\n",
    "from bson import ObjectId"
   ]
  },
  {
   "cell_type": "code",
   "execution_count": null,
   "metadata": {},
   "outputs": [],
   "source": [
    "# Initialize the environment variables\n",
    "ad.common.setup()\n",
    "\n",
    "# Initialize the client\n",
    "analytiq_client = ad.common.get_analytiq_client(env=\"test\")\n",
    "db_name = analytiq_client.env\n",
    "db = analytiq_client.mongodb[db_name]\n",
    "QUEUE_NAME = \"test\"\n",
    "\n",
    "# Remove the queue collection if it exists\n",
    "db.drop_collection(ad.queue.get_queue_collection_name(QUEUE_NAME))"
   ]
  },
  {
   "cell_type": "code",
   "execution_count": null,
   "metadata": {},
   "outputs": [],
   "source": [
    "# Send 10 test messages\n",
    "async def send_test_messages():\n",
    "    msg_ids = []\n",
    "    for i in range(10):\n",
    "        msg_id = await ad.queue.send_msg(\n",
    "            analytiq_client,\n",
    "            QUEUE_NAME,\n",
    "            msg={\"test_number\": i}\n",
    "        )\n",
    "        msg_ids.append(msg_id)\n",
    "        print(f\"Sent message {i+1}: {msg_id}\")\n",
    "    return msg_ids\n",
    "\n",
    "msg_ids = await send_test_messages()"
   ]
  },
  {
   "cell_type": "code",
   "execution_count": null,
   "metadata": {},
   "outputs": [],
   "source": [
    "# Receive and process 10 messages\n",
    "async def receive_messages():\n",
    "    received_msgs = []\n",
    "    for i in range(10):\n",
    "        msg = await ad.queue.recv_msg(analytiq_client, QUEUE_NAME)\n",
    "        if msg:\n",
    "            print(f\"Received message {i+1}: {msg['_id']} with metadata: {msg.get('metadata')}\")\n",
    "            received_msgs.append(msg)\n",
    "            # Mark as completed\n",
    "            await ad.queue.delete_msg(analytiq_client, QUEUE_NAME, str(msg['_id']))\n",
    "        else:\n",
    "            print(\"No more messages available\")\n",
    "            break\n",
    "    return received_msgs\n",
    "\n",
    "received_msgs = await receive_messages()"
   ]
  },
  {
   "cell_type": "code",
   "execution_count": null,
   "metadata": {},
   "outputs": [],
   "source": [
    "# Verify results\n",
    "print(f\"Sent messages: {len(msg_ids)}\")\n",
    "print(f\"Received messages: {len(received_msgs)}\")\n",
    "\n",
    "# Check if all sent messages were received\n",
    "sent_ids = set(msg_ids)\n",
    "received_ids = set(str(msg['_id']) for msg in received_msgs)\n",
    "assert sent_ids == received_ids\n",
    "print(f\"All messages received: {sent_ids == received_ids}\")\n"
   ]
  }
 ],
 "metadata": {
  "kernelspec": {
   "display_name": "doc-router",
   "language": "python",
   "name": "python3"
  },
  "language_info": {
   "codemirror_mode": {
    "name": "ipython",
    "version": 3
   },
   "file_extension": ".py",
   "mimetype": "text/x-python",
   "name": "python",
   "nbconvert_exporter": "python",
   "pygments_lexer": "ipython3",
   "version": "3.13.0"
  }
 },
 "nbformat": 4,
 "nbformat_minor": 2
}
